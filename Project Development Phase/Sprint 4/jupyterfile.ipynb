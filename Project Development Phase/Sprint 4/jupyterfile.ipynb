{
 "cells": [
  {
   "cell_type": "code",
   "execution_count": 39,
   "metadata": {},
   "outputs": [],
   "source": [
    "import ibm_db"
   ]
  },
  {
   "cell_type": "code",
   "execution_count": 38,
   "metadata": {},
   "outputs": [],
   "source": [
    "dsn_hostname = \"b70af05b-76e4-4bca-a1f5-23dbb4c6a74e.c1ogj3sd0tgtu0lqde00.databases.appdomain.cloud\"\n",
    "dsn_uid = \"kwk93766\" # \"abc12345\"\n",
    "dsn_pwd = \"3urLQOsR27WavL41\" # \"7dBZ3wWt9XN6$00J\"\n",
    "dsn_driver = \"{IBM DB2 ODBC DRIVER}\"\n",
    "dsn_database = \"bludb\" # \"BLUDB\"\n",
    "dsn_port = \"32716\" # \"50000\"\n",
    "dsn_protocol = \"TCPIP\" # “TCPIP”\n"
   ]
  },
  {
   "cell_type": "code",
   "execution_count": 40,
   "metadata": {},
   "outputs": [
    {
     "name": "stdout",
     "output_type": "stream",
     "text": [
      "DRIVER={IBM DB2 ODBC DRIVER};DATABASE=bludb;HOSTNAME=b70af05b-76e4-4bca-a1f5-23dbb4c6a74e.c1ogj3sd0tgtu0lqde00.databases.appdomain.cloud;PORT=32716;PROTOCOL=TCPIP;UID=kwk93766;PWD=3urLQOsR27WavL41;\n"
     ]
    }
   ],
   "source": [
    "dsn = (\n",
    "  \"DRIVER={0};\"\n",
    "  \"DATABASE={1};\"\n",
    "  \"HOSTNAME={2};\"\n",
    "  \"PORT={3};\"\n",
    "  \"PROTOCOL={4};\"\n",
    "  \"UID={5};\"\n",
    "  \"PWD={6};\").format(dsn_driver, dsn_database, dsn_hostname, dsn_port, dsn_protocol, dsn_uid, dsn_pwd)\n",
    "  \n",
    "print(dsn)\n",
    "\n",
    " "
   ]
  },
  {
   "cell_type": "code",
   "execution_count": 41,
   "metadata": {},
   "outputs": [
    {
     "name": "stdout",
     "output_type": "stream",
     "text": [
      "Unable to connect:  [IBM][CLI Driver] SQL1042C  An unexpected system error occurred.  SQLSTATE=58004  SQLCODE=-1042\n"
     ]
    }
   ],
   "source": [
    "try:\n",
    "    conn = ibm_db.conn(dsn, \"\", \"\")\n",
    "    print (\"Connected to database: \", dsn_database, \"as user: \", dsn_uid, \"on host: \", dsn_hostname)\n",
    "except:\n",
    "    print (\"Unable to connect: \", ibm_db.conn_errormsg() )"
   ]
  },
  {
   "cell_type": "code",
   "execution_count": 37,
   "metadata": {},
   "outputs": [
    {
     "ename": "NameError",
     "evalue": "name 'conn' is not defined",
     "output_type": "error",
     "traceback": [
      "\u001b[1;31m---------------------------------------------------------------------------\u001b[0m",
      "\u001b[1;31mNameError\u001b[0m                                 Traceback (most recent call last)",
      "Cell \u001b[1;32mIn [37], line 1\u001b[0m\n\u001b[1;32m----> 1\u001b[0m server \u001b[39m=\u001b[39m ibm_db\u001b[39m.\u001b[39mserver_info(conn)\n\u001b[0;32m      3\u001b[0m \u001b[39mprint\u001b[39m (\u001b[39m\"\u001b[39m\u001b[39mDBMS_NAME: \u001b[39m\u001b[39m\"\u001b[39m,server\u001b[39m.\u001b[39mDBMS_NAME)\n\u001b[0;32m      4\u001b[0m \u001b[39mprint\u001b[39m (\u001b[39m\"\u001b[39m\u001b[39mDBMS_VER: \u001b[39m\u001b[39m\"\u001b[39m, server\u001b[39m.\u001b[39mDBMS_VER)\n",
      "\u001b[1;31mNameError\u001b[0m: name 'conn' is not defined"
     ]
    }
   ],
   "source": [
    "server = ibm_db.server_info(conn)\n",
    "\n",
    "print (\"DBMS_NAME: \",server.DBMS_NAME)\n",
    "print (\"DBMS_VER: \", server.DBMS_VER)\n",
    "print (\"DB_NAME: \",server.DB_NAME)"
   ]
  }
 ],
 "metadata": {
  "kernelspec": {
   "display_name": "Python 3.10.1 ('venv': venv)",
   "language": "python",
   "name": "python3"
  },
  "language_info": {
   "codemirror_mode": {
    "name": "ipython",
    "version": 3
   },
   "file_extension": ".py",
   "mimetype": "text/x-python",
   "name": "python",
   "nbconvert_exporter": "python",
   "pygments_lexer": "ipython3",
   "version": "3.10.1"
  },
  "orig_nbformat": 4,
  "vscode": {
   "interpreter": {
    "hash": "67233fd615b5f5bfc90f2c2014175ce54f45bffe5e60a2b19565aaee630d27e0"
   }
  }
 },
 "nbformat": 4,
 "nbformat_minor": 2
}
